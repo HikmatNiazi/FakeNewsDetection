{
 "cells": [
  {
   "cell_type": "code",
   "execution_count": 2,
   "id": "serial-guess",
   "metadata": {},
   "outputs": [],
   "source": [
    "import pandas as pd\n",
    "import numpy as np\n",
    "\n",
    "# Import Plotting Libararies\n",
    "import seaborn as sns\n",
    "import matplotlib.pyplot as plt\n",
    "\n",
    "# Import Data Preprocessing Libraries \n",
    "from sklearn.preprocessing import LabelEncoder\n",
    "from sklearn.model_selection import train_test_split\n",
    "from sklearn.feature_extraction.text import TfidfVectorizer\n",
    "\n",
    "# Machine Learning Models\n",
    "from sklearn import svm  \n",
    "from sklearn.naive_bayes import GaussianNB\n",
    "from sklearn.linear_model import LogisticRegression\n",
    "from sklearn.tree import DecisionTreeClassifier\n",
    "from sklearn.ensemble import RandomForestClassifier\n",
    "from sklearn.ensemble import GradientBoostingClassifier\n",
    "from sklearn.ensemble import AdaBoostClassifier\n",
    "import xgboost as xgb\n",
    "\n",
    "# Model Evaluation Libraries\n",
    "from sklearn.metrics import classification_report, confusion_matrix\n",
    "import urduhack"
   ]
  },
  {
   "cell_type": "code",
   "execution_count": 3,
   "id": "respected-champagne",
   "metadata": {},
   "outputs": [],
   "source": [
    "df= pd.read_csv(r'D:\\Study\\PHD\\2nd Semster\\independent Study 2\\Fake news detection\\data.csv')"
   ]
  },
  {
   "cell_type": "code",
   "execution_count": 4,
   "id": "engaging-virtue",
   "metadata": {},
   "outputs": [
    {
     "data": {
      "text/html": [
       "<div>\n",
       "<style scoped>\n",
       "    .dataframe tbody tr th:only-of-type {\n",
       "        vertical-align: middle;\n",
       "    }\n",
       "\n",
       "    .dataframe tbody tr th {\n",
       "        vertical-align: top;\n",
       "    }\n",
       "\n",
       "    .dataframe thead th {\n",
       "        text-align: right;\n",
       "    }\n",
       "</style>\n",
       "<table border=\"1\" class=\"dataframe\">\n",
       "  <thead>\n",
       "    <tr style=\"text-align: right;\">\n",
       "      <th></th>\n",
       "      <th>text</th>\n",
       "      <th>fake</th>\n",
       "    </tr>\n",
       "  </thead>\n",
       "  <tbody>\n",
       "    <tr>\n",
       "      <th>0</th>\n",
       "      <td>عمران خان نے وزارت عظمی کا عہدہ سنبھالنے کے بع...</td>\n",
       "      <td>yes</td>\n",
       "    </tr>\n",
       "    <tr>\n",
       "      <th>1</th>\n",
       "      <td>پاکستان اسٹاک ایکسچینج پی ایس ایکس میں کاروبار...</td>\n",
       "      <td>yes</td>\n",
       "    </tr>\n",
       "    <tr>\n",
       "      <th>2</th>\n",
       "      <td>حکومت نے نئی سال کی آمد پر موبائل صارفین کے لی...</td>\n",
       "      <td>yes</td>\n",
       "    </tr>\n",
       "    <tr>\n",
       "      <th>3</th>\n",
       "      <td>ترکی میں روس کے ٹماٹروں کی بڑھتی ہو مانگ کے بع...</td>\n",
       "      <td>yes</td>\n",
       "    </tr>\n",
       "    <tr>\n",
       "      <th>4</th>\n",
       "      <td>ریاض اردو پوائنٹ اخبارتازہ ترین 18 نومبر2018ء ...</td>\n",
       "      <td>yes</td>\n",
       "    </tr>\n",
       "  </tbody>\n",
       "</table>\n",
       "</div>"
      ],
      "text/plain": [
       "                                                text fake\n",
       "0  عمران خان نے وزارت عظمی کا عہدہ سنبھالنے کے بع...  yes\n",
       "1  پاکستان اسٹاک ایکسچینج پی ایس ایکس میں کاروبار...  yes\n",
       "2  حکومت نے نئی سال کی آمد پر موبائل صارفین کے لی...  yes\n",
       "3  ترکی میں روس کے ٹماٹروں کی بڑھتی ہو مانگ کے بع...  yes\n",
       "4  ریاض اردو پوائنٹ اخبارتازہ ترین 18 نومبر2018ء ...  yes"
      ]
     },
     "execution_count": 4,
     "metadata": {},
     "output_type": "execute_result"
    }
   ],
   "source": [
    "df.head()"
   ]
  },
  {
   "cell_type": "code",
   "execution_count": 5,
   "id": "curious-helicopter",
   "metadata": {},
   "outputs": [],
   "source": [
    "from typing import FrozenSet\n",
    "\n",
    "# Urdu Language Stop words list\n",
    "STOP_WORDS: FrozenSet[str] = frozenset(\"\"\"\n",
    " آ آئی آئیں آئے آتا آتی آتے آس آمدید آنا آنسہ آنی آنے آپ آگے آہ آہا آیا اب ابھی ابے\n",
    " ارے اس اسکا اسکی اسکے اسی اسے اف افوہ البتہ الف ان اندر انکا انکی انکے انہوں انہی انہیں اوئے اور اوپر\n",
    " اوہو اپ اپنا اپنوں اپنی اپنے اپنےآپ اکثر اگر اگرچہ اہاہا ایسا ایسی ایسے ایک بائیں بار بارے بالکل باوجود باہر\n",
    " بج بجے بخیر بشرطیکہ بعد بعض بغیر بلکہ بن بنا بناؤ بند بڑی بھر بھریں بھی بہت بہتر تاکہ تاہم تب تجھ\n",
    " تجھی تجھے ترا تری تلک تم تمام تمہارا تمہاروں تمہاری تمہارے تمہیں تو تک تھا تھی تھیں تھے تیرا تیری تیرے\n",
    " جا جاؤ جائیں جائے جاتا جاتی جاتے جانی جانے جب جبکہ جدھر جس جسے جن جناب جنہوں جنہیں جو جہاں جی جیسا\n",
    " جیسوں جیسی جیسے حالانکہ حالاں حصہ حضرت خاطر خالی خواہ خوب خود دائیں درمیان دریں دو دوران دوسرا دوسروں دوسری دوں\n",
    " دکھائیں دی دیئے دیا دیتا دیتی دیتے دیر دینا دینی دینے دیکھو دیں دیے دے ذریعے رکھا رکھتا رکھتی رکھتے رکھنا رکھنی\n",
    " رکھنے رکھو رکھی رکھے رہ رہا رہتا رہتی رہتے رہنا رہنی رہنے رہو رہی رہیں رہے ساتھ سامنے ساڑھے سب سبھی\n",
    " سراسر سمیت سوا سوائے سکا سکتا سکتے سہ سہی سی سے شاید شکریہ صاحب صاحبہ صرف ضرور طرح طرف طور علاوہ عین\n",
    " فقط فلاں فی قبل قطا لئے لائی لائے لاتا لاتی لاتے لانا لانی لانے لایا لو لوجی لوگوں لگ لگا لگتا\n",
    " لگتی لگی لگیں لگے لہذا لی لیا لیتا لیتی لیتے لیکن لیں لیے لے ماسوا مت مجھ مجھی مجھے محترم محترمہ محض\n",
    " مرا مرحبا مری مرے مزید مس مسز مسٹر مطابق مل مکرمی مگر مگھر مہربانی میرا میروں میری میرے میں نا نزدیک\n",
    " نما نہ نہیں نیز نیچے نے و وار واسطے واقعی والا والوں والی والے واہ وجہ ورنہ وغیرہ ولے وگرنہ وہ وہاں\n",
    " وہی وہیں ویسا ویسے ویں پاس پایا پر پس پلیز پون پونی پونے پھر پہ پہلا پہلی پہلے پیر پیچھے چاہئے\n",
    " چاہتے چاہیئے چاہے چلا چلو چلیں چلے چناچہ چند چونکہ چکی چکیں چکے ڈالنا ڈالنی ڈالنے ڈالے کئے کا کاش کب کبھی\n",
    " کدھر کر کرتا کرتی کرتے کرم کرنا کرنے کرو کریں کرے کس کسی کسے کم کن کنہیں کو کوئی کون کونسا\n",
    " کونسے کچھ کہ کہا کہاں کہہ کہی کہیں کہے کی کیا کیسا کیسے کیونکر کیونکہ کیوں کیے کے گئی گئے گا گنا\n",
    " گو گویا گی گیا ہائیں ہائے ہاں ہر ہرچند ہرگز ہم ہمارا ہماری ہمارے ہمی ہمیں ہو ہوئی ہوئیں ہوئے ہوا\n",
    " ہوبہو ہوتا ہوتی ہوتیں ہوتے ہونا ہونگے ہونی ہونے ہوں ہی ہیلو ہیں ہے یا یات یعنی یک یہ یہاں یہی یہیں\n",
    "\"\"\".split())\n",
    "\n",
    "\n",
    "def remove_stopwords(text: str):\n",
    "    return \" \".join(word for word in text.split() if word not in STOP_WORDS)\n"
   ]
  },
  {
   "cell_type": "code",
   "execution_count": 6,
   "id": "peripheral-worcester",
   "metadata": {},
   "outputs": [
    {
     "data": {
      "text/plain": [
       "430"
      ]
     },
     "execution_count": 6,
     "metadata": {},
     "output_type": "execute_result"
    }
   ],
   "source": [
    "len(STOP_WORDS)"
   ]
  },
  {
   "cell_type": "code",
   "execution_count": 7,
   "id": "classical-personality",
   "metadata": {},
   "outputs": [],
   "source": [
    "from urduhack.models.lemmatizer import lemmatizer\n",
    "def lemitizeStr(str):\n",
    "    lemme_str = \"\"\n",
    "    temp = lemmatizer.lemma_lookup(str)\n",
    "    for t in temp:\n",
    "        lemme_str += t[0] + \" \"\n",
    "    \n",
    "    return lemme_str"
   ]
  },
  {
   "cell_type": "code",
   "execution_count": 120,
   "id": "looking-identification",
   "metadata": {},
   "outputs": [],
   "source": [
    "df['stopwordsremoval'] =  df['text'].apply(remove_stopwords)\n",
    "df['lemmatized_text'] = df['stopwordsremoval'].apply(lemitizeStr)"
   ]
  },
  {
   "cell_type": "code",
   "execution_count": 8,
   "id": "waiting-salem",
   "metadata": {},
   "outputs": [],
   "source": [
    "le = LabelEncoder()\n",
    "le.fit(df['fake'])\n",
    "df['encoded_fake'] = le.transform(df['fake'])"
   ]
  },
  {
   "cell_type": "code",
   "execution_count": 9,
   "id": "stupid-aerospace",
   "metadata": {},
   "outputs": [
    {
     "data": {
      "text/html": [
       "<div>\n",
       "<style scoped>\n",
       "    .dataframe tbody tr th:only-of-type {\n",
       "        vertical-align: middle;\n",
       "    }\n",
       "\n",
       "    .dataframe tbody tr th {\n",
       "        vertical-align: top;\n",
       "    }\n",
       "\n",
       "    .dataframe thead th {\n",
       "        text-align: right;\n",
       "    }\n",
       "</style>\n",
       "<table border=\"1\" class=\"dataframe\">\n",
       "  <thead>\n",
       "    <tr style=\"text-align: right;\">\n",
       "      <th></th>\n",
       "      <th>text</th>\n",
       "      <th>fake</th>\n",
       "      <th>encoded_fake</th>\n",
       "    </tr>\n",
       "  </thead>\n",
       "  <tbody>\n",
       "    <tr>\n",
       "      <th>0</th>\n",
       "      <td>عمران خان نے وزارت عظمی کا عہدہ سنبھالنے کے بع...</td>\n",
       "      <td>yes</td>\n",
       "      <td>1</td>\n",
       "    </tr>\n",
       "    <tr>\n",
       "      <th>1</th>\n",
       "      <td>پاکستان اسٹاک ایکسچینج پی ایس ایکس میں کاروبار...</td>\n",
       "      <td>yes</td>\n",
       "      <td>1</td>\n",
       "    </tr>\n",
       "    <tr>\n",
       "      <th>2</th>\n",
       "      <td>حکومت نے نئی سال کی آمد پر موبائل صارفین کے لی...</td>\n",
       "      <td>yes</td>\n",
       "      <td>1</td>\n",
       "    </tr>\n",
       "    <tr>\n",
       "      <th>3</th>\n",
       "      <td>ترکی میں روس کے ٹماٹروں کی بڑھتی ہو مانگ کے بع...</td>\n",
       "      <td>yes</td>\n",
       "      <td>1</td>\n",
       "    </tr>\n",
       "    <tr>\n",
       "      <th>4</th>\n",
       "      <td>ریاض اردو پوائنٹ اخبارتازہ ترین 18 نومبر2018ء ...</td>\n",
       "      <td>yes</td>\n",
       "      <td>1</td>\n",
       "    </tr>\n",
       "  </tbody>\n",
       "</table>\n",
       "</div>"
      ],
      "text/plain": [
       "                                                text fake  encoded_fake\n",
       "0  عمران خان نے وزارت عظمی کا عہدہ سنبھالنے کے بع...  yes             1\n",
       "1  پاکستان اسٹاک ایکسچینج پی ایس ایکس میں کاروبار...  yes             1\n",
       "2  حکومت نے نئی سال کی آمد پر موبائل صارفین کے لی...  yes             1\n",
       "3  ترکی میں روس کے ٹماٹروں کی بڑھتی ہو مانگ کے بع...  yes             1\n",
       "4  ریاض اردو پوائنٹ اخبارتازہ ترین 18 نومبر2018ء ...  yes             1"
      ]
     },
     "execution_count": 9,
     "metadata": {},
     "output_type": "execute_result"
    }
   ],
   "source": [
    "df.head()"
   ]
  },
  {
   "cell_type": "code",
   "execution_count": 126,
   "id": "english-consistency",
   "metadata": {},
   "outputs": [
    {
     "name": "stdout",
     "output_type": "stream",
     "text": [
      "عمران خان نے وزارت عظمی کا عہدہ سنبھالنے کے بعد سعودی عرب قرضے مانگنے سعودی عرب کے دارالحکومت ریاض روانہ ہو گئے اس سرکاری دورے میں سعودی عرب کی حکومت سے پاکستان کو معاشی بحران سے نکالنے کی درخواست کریں گے اس بحران سے نمٹنے کے لیے حکومت پاکستان ایک سال کے لیے 20 ارب ڈالر مالی اداد دینے کی درخواست کرے گی جس کی سر برایہ خود وزیر اعظم پاکستان عمران خان کر رہے ہیں دفتر خارجہ کی جانب سے منگل کی شب جاری ہونے والے اعلامیے میں بتایا گیا ہے کہ سعودی حکام نے فیصلہ کیا ہے کہ وہ وزیر اعظم عمران خان کی درخواست پر 10 ارب ڈالر بطور مالہ امداد دینے پر اتفاق کیا ہے عمران خان سعودی عرب میں سرمایہ کاری کے حوالے سے کشکول لیے مالی معاونت کی غرض سے ریاض میں موجود ہیں عمران خان کو خود تو اپنی عزت کا احساس نہیں مگر انھیں غیور پاکستانی قوم کی غیرت کا بھی زرا خیال نہ آیا اور سوچے سمجھے بغیر وہ سعودی عرب روانہ ہو گئے جس پر سعودی حکام کو ترس آگیا اور انھوں نے پاکستان کو نہ صرف ایک سال کے لیے 10 ارب ڈالر دینے کا اعلان کیا بلکہ 5 سال تک مؤخر ادائیگیوں پر تقریبا 15 ارب ڈالر مالیت تک کا تیل دینے پر بھی رضامند ہو گیا ہے دفتر خارجہ کا کہنا ہے کہ سعودی عرب کی جانب سے 10 ارب ڈالر دیے جانے والی مالی امداد سے بیرون ملکی قرضوں کی ادائیگیوں میں توازن لانے میں مدد دیں گے وزیراعظم ہاؤس اعلامیے کے مطابق سعودی عرب نے پاکستان میں نہ صرف آئل ریفائنری لگانے کا فیصلہ کیا ہے بلکہ بلوچستان میں معدنیات کی کانوں میں بھی سے معدنیات بھی نکالنے کے لیے کثر رقم فراہم کرے گا اور اس سلسلے میں ان کی حکومت کے 20 ممبران پر مشتمل اعلی وفد کو وزیراعظم عمران خان نے پاکستان کے دورے پر آنے کی دعوت دی ہے وزیراعظم عمران خان نے دورہ سعودی عرب میں ان کے ہمراہ وزیر خارجہ شاہ محمود قریشی وزیر خزانہ شیخ رشید وزیر اطلاعات معاز احمد اور وزیراعظم کے مشیر برائے تجارت آصف علی زرداری بھی شامل تھے پاکستان کے معاشی بحران سے نمٹنے کے لیے عمران خان نے پہلے ہی کہا تھا کہ وہ آئی ایم ایف سے مزید قرض نہیں لینا چاہتے کیونکہ وہ ہم واپس کرنے کی صلاحیت نہیں رکھے گے اس لیے بہتر ہو گا کہ اسلامی دوست ممالک سے مالی امداد کرنے کی التجا کرنے کا دروازہ کو ترجیح دیں گے اس لیے کشکول لیے مالی معاونت کی غرض سے عمران خان نے وزیراعظم کا بنتے کہ سعودی عرب کا ہی انتخاب کیا تھا کیونکہ مانا جاتا ہے کہ عربوں سے پاس بہت پیسہ اور تیک لے وسیع و عریض زخائر ہیں دورے کے بعد معاز احمد نے اسلام آباد میں پریس کانفرنس سے خطاب کرتے ہوئے کہا تھا کہ سعودی عرب وہ پہلا ملک ہے جسے پاکستان نے پاکستان کی مالی معاونت کے لیے اپنے خزانوں کے منہ کھول دہے ہیں وہ سعودی عرب کے ایک اعلی سطح کے وفد کا خود انتظار کریں گے کہ وہ پاکستان کا دورہ کریں اور سرمایہ کاری کے منصوبوں کے لیے مزید امدادی پیکج کا واضح اعلان کریں تاکہ بیرون ملکی قرضوں کی ادائیگیوں میں توازن لایا جا سکے\n",
      "عمران خان وزارت عظمی عہدہ سنبھالنے سعودی عرب قرضے مانگنے سعودی عرب دارالحکومت ریاض روانہ سرکاری دورے سعودی عرب حکومت پاکستان معاشی بحران نکالنے درخواست گے بحران نمٹنے حکومت پاکستان سال 20 ارب ڈالر مالی اداد درخواست سر برایہ وزیر اعظم پاکستان عمران خان دفتر خارجہ جانب منگل شب جاری اعلامیے بتایا سعودی حکام فیصلہ وزیر اعظم عمران خان درخواست 10 ارب ڈالر بطور مالہ امداد اتفاق عمران خان سعودی عرب سرمایہ کاری حوالے کشکول مالی معاونت غرض ریاض موجود عمران خان عزت احساس انھیں غیور پاکستانی قوم غیرت زرا خیال سوچے سمجھے سعودی عرب روانہ سعودی حکام ترس آگیا انھوں پاکستان سال 10 ارب ڈالر اعلان 5 سال مؤخر ادائیگیوں تقریبا 15 ارب ڈالر مالیت تیل رضامند دفتر خارجہ کہنا سعودی عرب جانب 10 ارب ڈالر مالی امداد بیرون ملکی قرضوں ادائیگیوں توازن مدد گے وزیراعظم ہاؤس اعلامیے سعودی عرب پاکستان آئل ریفائنری لگانے فیصلہ بلوچستان معدنیات کانوں معدنیات نکالنے کثر رقم فراہم سلسلے حکومت 20 ممبران مشتمل اعلی وفد وزیراعظم عمران خان پاکستان دورے دعوت وزیراعظم عمران خان دورہ سعودی عرب ہمراہ وزیر خارجہ شاہ محمود قریشی وزیر خزانہ شیخ رشید وزیر اطلاعات معاز احمد وزیراعظم مشیر برائے تجارت آصف علی زرداری شامل پاکستان معاشی بحران نمٹنے عمران خان ایم ایف قرض لینا واپس صلاحیت گے اسلامی دوست ممالک مالی امداد التجا دروازہ ترجیح گے کشکول مالی معاونت غرض عمران خان وزیراعظم بنتے سعودی عرب انتخاب مانا عربوں پیسہ تیک وسیع عریض زخائر دورے معاز احمد اسلام آباد پریس کانفرنس خطاب سعودی عرب ملک پاکستان پاکستان مالی معاونت خزانوں منہ کھول دہے سعودی عرب اعلی سطح وفد انتظار گے پاکستان دورہ سرمایہ کاری منصوبوں امدادی پیکج واضح اعلان بیرون ملکی قرضوں ادائیگیوں توازن سکے\n",
      "عمران خان وزارت عظمی عہدہ سنبھالنے سعودی عرب قرضے مانگنے سعودی عرب دارالحکومت ریاض روانہ سرکاری دورے سعودی عرب حکومت پاکستان معاشی بحران نکالنے درخواست گے بحران نمٹنے حکومت پاکستان سال 20 ارب ڈالر مالی اداد درخواست سر برایہ وزیر اعظم پاکستان عمران خان دفتر خارجہ جانب منگل شب جاری اعلامیے بتایا سعودی حکام فیصلہ وزیر اعظم عمران خان درخواست 10 ارب ڈالر بطور مالہ امداد اتفاق عمران خان سعودی عرب سرمایہ کاری حوالے کشکول مالی معاونت غرض ریاض موجود عمران خان عزت احساس انھیں غیور پاکستانی قوم غیرت زرا خیال سوچے سمجھے سعودی عرب روانہ سعودی حکام ترس آگیا انھوں پاکستان سال 10 ارب ڈالر اعلان 5 سال مؤخر ادائیگیوں تقریبا 15 ارب ڈالر مالیت تیل رضامند دفتر خارجہ کہنا سعودی عرب جانب 10 ارب ڈالر مالی امداد بیرون ملکی قرضوں ادائیگیوں توازن مدد گے وزیراعظم ہاؤس اعلامیے سعودی عرب پاکستان آئل ریفائنری لگانے فیصلہ بلوچستان معدنیات کانوں معدنیات نکالنے کثر رقم فراہم سلسلے حکومت 20 ممبران مشتمل اعلی وفد وزیراعظم عمران خان پاکستان دورے دعوت وزیراعظم عمران خان دورہ سعودی عرب ہمراہ وزیر خارجہ شاہ محمود قریشی وزیر خزانہ شیخ رشید وزیر اطلاعات معاز احمد وزیراعظم مشیر برائے تجارت آصف علی زرداری شامل پاکستان معاشی بحران نمٹنے عمران خان ایم ایف قرض لینا واپس صلاحیت گے اسلامی دوست ممالک مالی امداد التجا دروازہ ترجیح گے کشکول مالی معاونت غرض عمران خان وزیراعظم بنتے سعودی عرب انتخاب مانا عربوں پیسہ تیک وسیع عریض زخائر دورے معاز احمد اسلام آباد پریس کانفرنس خطاب سعودی عرب ملک پاکستان پاکستان مالی معاونت خزانوں منہ کھول دہے سعودی عرب اعلی سطح وفد انتظار گے پاکستان دورہ سرمایہ کاری منصوبوں امدادی پیکج واضح اعلان بیرون ملکی قرضوں ادائیگیوں توازن سکے \n"
     ]
    }
   ],
   "source": [
    "print(df.text[0])\n",
    "print(df.stopwordsremoval[0])\n",
    "print(df.lemmatized_text[0])"
   ]
  },
  {
   "cell_type": "code",
   "execution_count": 10,
   "id": "southern-credits",
   "metadata": {},
   "outputs": [],
   "source": [
    "import spacy\n",
    "def tokenizer(str):\n",
    "    nlp = spacy.blank('ur')\n",
    "    doc = nlp.tokenizer(str)\n",
    "    return [i.text for i in doc]\n",
    "df[\"tokens\"] = df[\"text\"].apply(tokenizer)"
   ]
  },
  {
   "cell_type": "code",
   "execution_count": 11,
   "id": "challenging-fetish",
   "metadata": {},
   "outputs": [
    {
     "data": {
      "text/html": [
       "<div>\n",
       "<style scoped>\n",
       "    .dataframe tbody tr th:only-of-type {\n",
       "        vertical-align: middle;\n",
       "    }\n",
       "\n",
       "    .dataframe tbody tr th {\n",
       "        vertical-align: top;\n",
       "    }\n",
       "\n",
       "    .dataframe thead th {\n",
       "        text-align: right;\n",
       "    }\n",
       "</style>\n",
       "<table border=\"1\" class=\"dataframe\">\n",
       "  <thead>\n",
       "    <tr style=\"text-align: right;\">\n",
       "      <th></th>\n",
       "      <th>text</th>\n",
       "      <th>fake</th>\n",
       "      <th>encoded_fake</th>\n",
       "      <th>tokens</th>\n",
       "    </tr>\n",
       "  </thead>\n",
       "  <tbody>\n",
       "    <tr>\n",
       "      <th>0</th>\n",
       "      <td>عمران خان نے وزارت عظمی کا عہدہ سنبھالنے کے بع...</td>\n",
       "      <td>yes</td>\n",
       "      <td>1</td>\n",
       "      <td>[عمران, خان, نے, وزارت, عظمی, کا, عہدہ, سنبھال...</td>\n",
       "    </tr>\n",
       "    <tr>\n",
       "      <th>1</th>\n",
       "      <td>پاکستان اسٹاک ایکسچینج پی ایس ایکس میں کاروبار...</td>\n",
       "      <td>yes</td>\n",
       "      <td>1</td>\n",
       "      <td>[پاکستان, اسٹاک, ایکسچینج, پی, ایس, ایکس, میں,...</td>\n",
       "    </tr>\n",
       "    <tr>\n",
       "      <th>2</th>\n",
       "      <td>حکومت نے نئی سال کی آمد پر موبائل صارفین کے لی...</td>\n",
       "      <td>yes</td>\n",
       "      <td>1</td>\n",
       "      <td>[حکومت, نے, نئی, سال, کی, آمد, پر, موبائل, صار...</td>\n",
       "    </tr>\n",
       "    <tr>\n",
       "      <th>3</th>\n",
       "      <td>ترکی میں روس کے ٹماٹروں کی بڑھتی ہو مانگ کے بع...</td>\n",
       "      <td>yes</td>\n",
       "      <td>1</td>\n",
       "      <td>[ترکی, میں, روس, کے, ٹماٹروں, کی, بڑھتی, ہو, م...</td>\n",
       "    </tr>\n",
       "    <tr>\n",
       "      <th>4</th>\n",
       "      <td>ریاض اردو پوائنٹ اخبارتازہ ترین 18 نومبر2018ء ...</td>\n",
       "      <td>yes</td>\n",
       "      <td>1</td>\n",
       "      <td>[ریاض, اردو, پوائنٹ, اخبارتازہ, ترین, 18, نومب...</td>\n",
       "    </tr>\n",
       "  </tbody>\n",
       "</table>\n",
       "</div>"
      ],
      "text/plain": [
       "                                                text fake  encoded_fake  \\\n",
       "0  عمران خان نے وزارت عظمی کا عہدہ سنبھالنے کے بع...  yes             1   \n",
       "1  پاکستان اسٹاک ایکسچینج پی ایس ایکس میں کاروبار...  yes             1   \n",
       "2  حکومت نے نئی سال کی آمد پر موبائل صارفین کے لی...  yes             1   \n",
       "3  ترکی میں روس کے ٹماٹروں کی بڑھتی ہو مانگ کے بع...  yes             1   \n",
       "4  ریاض اردو پوائنٹ اخبارتازہ ترین 18 نومبر2018ء ...  yes             1   \n",
       "\n",
       "                                              tokens  \n",
       "0  [عمران, خان, نے, وزارت, عظمی, کا, عہدہ, سنبھال...  \n",
       "1  [پاکستان, اسٹاک, ایکسچینج, پی, ایس, ایکس, میں,...  \n",
       "2  [حکومت, نے, نئی, سال, کی, آمد, پر, موبائل, صار...  \n",
       "3  [ترکی, میں, روس, کے, ٹماٹروں, کی, بڑھتی, ہو, م...  \n",
       "4  [ریاض, اردو, پوائنٹ, اخبارتازہ, ترین, 18, نومب...  "
      ]
     },
     "execution_count": 11,
     "metadata": {},
     "output_type": "execute_result"
    }
   ],
   "source": [
    "df.head()"
   ]
  },
  {
   "cell_type": "code",
   "execution_count": 12,
   "id": "square-lambda",
   "metadata": {},
   "outputs": [
    {
     "name": "stderr",
     "output_type": "stream",
     "text": [
      "C:\\Users\\hp\\anaconda3\\envs\\tensorflow\\lib\\site-packages\\gensim\\similarities\\__init__.py:15: UserWarning: The gensim.similarities.levenshtein submodule is disabled, because the optional Levenshtein package <https://pypi.org/project/python-Levenshtein/> is unavailable. Install Levenhstein (e.g. `pip install python-Levenshtein`) to suppress this warning.\n",
      "  warnings.warn(msg)\n"
     ]
    }
   ],
   "source": [
    "import gensim\n",
    "\n",
    "model_word2vec = gensim.models.Word2Vec(sentences=df[\"tokens\"], vector_size=128, window=5, workers=10, min_count = 1)"
   ]
  },
  {
   "cell_type": "code",
   "execution_count": 85,
   "id": "cooked-campaign",
   "metadata": {},
   "outputs": [
    {
     "data": {
      "text/plain": [
       "[('دور', 0.9996468424797058),\n",
       " ('تعلق', 0.9996218681335449),\n",
       " ('کافی', 0.9996209144592285),\n",
       " ('ہاتھ', 0.9996162056922913),\n",
       " ('مدد', 0.9996086359024048),\n",
       " ('بڑے', 0.9996070265769958),\n",
       " ('زندگی', 0.999606728553772),\n",
       " ('جان', 0.9996060729026794),\n",
       " ('جگہ', 0.9995936751365662),\n",
       " ('واضح', 0.9995933175086975)]"
      ]
     },
     "execution_count": 85,
     "metadata": {},
     "output_type": "execute_result"
    }
   ],
   "source": [
    "model_word2vec.wv.most_similar(\"مرد\")"
   ]
  },
  {
   "cell_type": "code",
   "execution_count": 86,
   "id": "green-polls",
   "metadata": {
    "scrolled": true
   },
   "outputs": [
    {
     "data": {
      "text/plain": [
       "[('مخصوص', 0.9947750568389893),\n",
       " ('شمسی', 0.9945929050445557),\n",
       " ('صحت', 0.9945802688598633),\n",
       " ('گھنٹے', 0.9945588111877441),\n",
       " ('بہن', 0.9945472478866577),\n",
       " ('حسن', 0.994531512260437),\n",
       " ('سورج', 0.9945124983787537),\n",
       " ('سن', 0.994508683681488),\n",
       " ('پائے', 0.9945082068443298),\n",
       " ('انٹرویو', 0.9945059418678284)]"
      ]
     },
     "execution_count": 86,
     "metadata": {},
     "output_type": "execute_result"
    }
   ],
   "source": [
    "model_word2vec.wv.most_similar(\"خوفناک\")"
   ]
  },
  {
   "cell_type": "code",
   "execution_count": 13,
   "id": "hourly-equivalent",
   "metadata": {},
   "outputs": [],
   "source": [
    "VOCAB_SIZE = len(model_word2vec.wv.key_to_index)\n",
    "DIMENSIONS = 128\n",
    "MAX_LEN = max([len(x) for x in df[\"tokens\"]])"
   ]
  },
  {
   "cell_type": "code",
   "execution_count": 14,
   "id": "fabulous-funeral",
   "metadata": {},
   "outputs": [
    {
     "data": {
      "text/plain": [
       "(19983, 128, 2198)"
      ]
     },
     "execution_count": 14,
     "metadata": {},
     "output_type": "execute_result"
    }
   ],
   "source": [
    "VOCAB_SIZE, DIMENSIONS, MAX_LEN"
   ]
  },
  {
   "cell_type": "code",
   "execution_count": 15,
   "id": "common-looking",
   "metadata": {},
   "outputs": [],
   "source": [
    "from keras.preprocessing.text import Tokenizer\n",
    "token = Tokenizer()\n",
    "token.fit_on_texts(df[\"tokens\"])\n",
    "encoded = token.texts_to_sequences(df[\"tokens\"])"
   ]
  },
  {
   "cell_type": "code",
   "execution_count": 16,
   "id": "continued-threat",
   "metadata": {},
   "outputs": [
    {
     "name": "stdout",
     "output_type": "stream",
     "text": [
      "391 getty\n",
      "436 image\n",
      "949 images\n",
      "1255 g\n",
      "2638 afp\n",
      "3426 edward\n",
      "3427 burynsky\n",
      "4058 epa\n",
      "4396 s8\n",
      "4474 usd\n",
      "4573 zte\n",
      "5177 july\n",
      "5953 24dcp\n",
      "5978 world\n",
      "5997 aamir\n",
      "6051 schumer\n",
      "7030 25dcp\n",
      "7068 kids\n",
      "7184 imagesاس\n",
      "7221 afpپاکستان\n",
      "7262 afpgetty\n",
      "7312 imagesسعودی\n",
      "7363 wednesday\n",
      "7364 june\n",
      "7388 may\n",
      "7500 imagesتصویر\n",
      "7826 ccr5نامی\n",
      "8381 فلمiruvar\n",
      "8708 t20\n",
      "8709 bcci\n",
      "8814 asus\n",
      "8815 rogنامی\n",
      "8817 ہےasus\n",
      "8818 rog\n",
      "8819 amoled\n",
      "8820 modeہے\n",
      "8821 ui\n",
      "8825 mah\n",
      "8873 کوراquora\n",
      "8994 ہیںپیجرزpagers\n",
      "9049 primitive\n",
      "9050 survival\n",
      "9051 tool\n",
      "9058 dudi\n",
      "9059 perfectاس\n",
      "9147 growing\n",
      "9148 drag\n",
      "9219 verified\n",
      "9223 not\n",
      "9415 build\n",
      "9420 کریںwindow\n",
      "9421 scaletransition\n",
      "9422 scaleanimator\n",
      "9426 intelligence\n",
      "9539 intel\n",
      "9540 realsense\n",
      "9541 camera\n",
      "9571 ii96400کی\n",
      "9873 فلمkit\n",
      "9874 kittredge\n",
      "9875 girlان\n",
      "9882 planسے\n",
      "9884 spy\n",
      "9887 meets\n",
      "9891 سیریزone\n",
      "9902 manny\n",
      "9903 delgado\n",
      "9915 beasts\n",
      "9916 southern\n",
      "9917 wildسے\n",
      "9964 مجموعہmrs\n",
      "9966 forgiving\n",
      "9981 piece\n",
      "9982 house\n",
      "9989 diary\n",
      "9990 diva\n",
      "9992 modern\n",
      "9993 experiments\n",
      "10003 liaquats\n",
      "10012 nothing\n",
      "10018 mahirah\n",
      "10030 ہےaamirliaquat\n",
      "10038 liaquat\n",
      "10039 husain\n",
      "10040 aamirliaquat\n",
      "10138 year\n",
      "10369 chudnovsk\n",
      "10418 images1\n",
      "10426 images2\n",
      "10433 images3\n",
      "10441 images4\n",
      "10457 images6\n",
      "10461 images7\n",
      "10466 images8\n",
      "10470 images9\n",
      "10476 images10\n",
      "10503 sapientورچوئل\n",
      "10599 ہیںimage\n",
      "10602 ہواimage\n",
      "10604 ہےimage\n",
      "10662 imagesعالمی\n",
      "10752 ge\n",
      "10793 imagesاب\n",
      "10906 monday\n",
      "10978 sunday\n",
      "11038 abdullah\n",
      "11039 w\n",
      "11040 rajput\n",
      "11041 awrajput\n",
      "11173 elephant\n",
      "11204 imagesآئن\n",
      "11244 compliant\n",
      "11250 jack\n",
      "11251 dongarra\n",
      "11252 sunway\n",
      "11253 taihulight\n",
      "11254 system\n",
      "11255 report\n",
      "11259 imagesایک\n",
      "11285 3d\n",
      "11303 american\n",
      "11305 csf\n",
      "11306 mushahid\n",
      "11351 reuters\n",
      "11385 nfl\n",
      "11470 spacex\n",
      "11473 your\n",
      "12184 اسدleo\n",
      "12627 8gآلات\n",
      "12885 شيوروليٹterios\n",
      "13082 algebreسکھانے\n",
      "13084 hightemparature\n",
      "13089 زیروreal\n",
      "13171 2wheelie2\n",
      "13174 4d\n",
      "13175 width\n",
      "13256 dcpاور\n",
      "13293 ordinary\n",
      "13297 شوٹwhip\n",
      "13370 funnycheeksاج\n",
      "13388 unusual\n",
      "13399 bitter\n",
      "13405 cambridge\n",
      "13411 run\n",
      "13422 کیاim\n",
      "13424 nida\n",
      "13425 yasir\n",
      "13432 personthese\n",
      "13449 jodi\n",
      "13450 picoltناول\n",
      "13530 dignity\n",
      "13540 student\n",
      "14113 سکیورٹیimage\n",
      "14130 imagesہیکنگ\n",
      "14239 reutersپاکستان\n",
      "14251 afpاے\n",
      "14256 afpعقیل\n",
      "14354 imagesخبررساں\n",
      "14379 imagesامریکی\n",
      "14387 imagesبرطانیہ\n",
      "14394 imagesریڈرز\n",
      "14403 images2015\n",
      "14409 imagesسٹی\n",
      "14615 imf\n",
      "14645 meccaبہت\n",
      "14658 meccaآسٹریلوی\n",
      "14676 meccaپرتھ\n",
      "14684 meccaمکہ\n",
      "14779 ایnyse\n",
      "14780 9emax\n",
      "14783 اور9emaxکی\n",
      "14785 رہیںsokolovska\n",
      "14786 uhelna\n",
      "14789 9e\n",
      "14791 9emaxاپ\n",
      "14797 t240370\n",
      "14808 9emaxسمپل\n",
      "14816 afpٹیکنالوجی\n",
      "14822 imagesبل\n",
      "14832 imagesپاکستان\n",
      "14845 imagesیہ\n",
      "14851 imagesسبسڈی\n",
      "14923 pti\n",
      "14952 epaگذشتہ\n",
      "14969 epaاوپیک\n",
      "15249 b6اور\n",
      "15735 scorpio\n",
      "15918 asymmetrical\n",
      "15919 hoops\n",
      "16090 کردیاthis\n",
      "16093 cup\n",
      "16099 columbia\n",
      "16105 gameworldcupjapanfifaworldcup2018\n",
      "16106 pictwittercomptz6b4zpxg\n",
      "16112 ہیںjapanese\n",
      "16119 worldcuprussia2018\n",
      "16121 what\n",
      "16123 how\n",
      "16129 pictwittercomi08zscvqpn\n",
      "16975 polo\n",
      "17063 poloایلیفنٹ\n",
      "17086 یبےabey\n",
      "17252 family\n",
      "17253 handoutpa\n",
      "17254 wire\n",
      "17262 imagesخوراک\n",
      "17264 imagesالرجی\n",
      "17265 imagesکچھ\n",
      "17269 thinkstockکنگز\n",
      "17293 imagesکیا\n",
      "17306 5gآلات\n",
      "17316 inseego\n",
      "17318 pa\n",
      "17398 imagesنئے\n",
      "17404 bhadana\n",
      "17410 yanny\n",
      "17411 laurel\n",
      "17452 گاface\n",
      "17453 imagesٹیلی\n",
      "17458 imagesآخر\n",
      "17460 imagesدوسرے\n",
      "17514 terios\n",
      "17529 non\n",
      "17530 bromley\n",
      "17531 familyنیلامی\n",
      "17537 تھےimage\n",
      "17569 carlos\n",
      "17570 jonesoak\n",
      "17571 ridge\n",
      "17572 national\n",
      "17573 laboratory\n",
      "17663 augmented\n",
      "17664 algorithmسکھانے\n",
      "17725 پاؤنڈgbp\n",
      "17757 imagesمکمل\n",
      "17761 nasa\n",
      "17766 imagesسب\n",
      "17778 7wheelie\n",
      "17780 depth\n",
      "17794 afpپاکستانی\n",
      "17825 نہیںmushahid\n",
      "17827 coalition\n",
      "17828 support\n",
      "17829 funds\n",
      "17831 pompeo\n",
      "17833 islamabad\n",
      "17835 india\n",
      "17840 indous\n",
      "17843 pakistans\n",
      "17846 china\n",
      "17853 pakistan\n",
      "17855 us\n",
      "17857 hussain\n",
      "17879 b3\n",
      "17894 huw\n",
      "17895 evans\n",
      "18067 imagesآج\n",
      "18084 0006usd\n",
      "18091 10000usd\n",
      "18096 imagesان\n",
      "18114 paعالمی\n",
      "18146 imagesرپورٹ\n",
      "18170 usman\n",
      "18171 ahsan\n",
      "18330 reutersانہوں\n",
      "18335 afpنیپال\n",
      "18349 reutersراجیش\n",
      "18532 گاناwhip\n",
      "18533 hair\n",
      "18535 backup\n",
      "18536 time\n",
      "18541 girl\n",
      "18553 live\n",
      "18590 one\n",
      "18591 only\n",
      "18592 ivan\n",
      "18617 funnybonesاج\n",
      "18621 pyjamas\n",
      "18623 kiss\n",
      "18627 anusual\n",
      "18635 intense\n",
      "18636 truths\n",
      "18637 womanhood\n",
      "18639 domestic\n",
      "18641 gurukul\n",
      "18642 parenting\n",
      "18644 twitterٹی\n",
      "18648 twitternailainayatصنم\n",
      "18653 im\n",
      "18655 sanam\n",
      "18656 baloch\n",
      "18660 situationthese\n",
      "18674 رائٹرp\n",
      "18675 l\n",
      "18676 traversکے\n",
      "18753 believe\n",
      "18758 tap\n",
      "18765 humanitarian\n",
      "18777 jumpکو\n",
      "18829 imagesانڈین\n",
      "18846 twitterاستقبالیہ\n",
      "18852 tuesday\n",
      "18893 friday\n",
      "18918 جونسنdakota\n",
      "18932 srk\n",
      "18934 hillary\n",
      "18935 clinton\n",
      "18936 john\n",
      "18937 kerry\n",
      "18945 pictwittercomnc9s5sweyg\n",
      "18946 bauua\n",
      "18947 universe\n",
      "18948 srkuniverse\n",
      "18949 december\n",
      "19150 afpمتحدہ\n",
      "19200 no\n",
      "19201 spin\n",
      "19367 gunning\n",
      "19368 greatness\n",
      "19772 esom\n",
      "19773 kornmesser\n",
      "19780 paہارورڈ\n",
      "19785 nasajplcaltechiau\n",
      "19855 twitterhayabusa2jaxa\n",
      "19954 informatio\n",
      "19955 categories\n"
     ]
    }
   ],
   "source": [
    "words2vec_matrix = np.zeros((VOCAB_SIZE+1,DIMENSIONS))\n",
    "for word, index in token.word_index.items():\n",
    "    try:\n",
    "        words2vec_matrix[index] = model_word2vec.wv[word]\n",
    "    except:\n",
    "        print(index, word)"
   ]
  },
  {
   "cell_type": "code",
   "execution_count": 17,
   "id": "optional-intro",
   "metadata": {},
   "outputs": [],
   "source": [
    "import tensorflow as tf\n",
    "train_vectors = tf.keras.preprocessing.sequence.pad_sequences(encoded,padding='post',dtype=int)\n"
   ]
  },
  {
   "cell_type": "code",
   "execution_count": 18,
   "id": "divided-adrian",
   "metadata": {},
   "outputs": [],
   "source": [
    "train_label = df.encoded_fake"
   ]
  },
  {
   "cell_type": "code",
   "execution_count": 19,
   "id": "subjective-temple",
   "metadata": {},
   "outputs": [
    {
     "data": {
      "text/plain": [
       "numpy.int32"
      ]
     },
     "execution_count": 19,
     "metadata": {},
     "output_type": "execute_result"
    }
   ],
   "source": [
    "type(train_label[0])"
   ]
  },
  {
   "cell_type": "code",
   "execution_count": 20,
   "id": "minute-engagement",
   "metadata": {},
   "outputs": [],
   "source": [
    "(train_sentences,test_sentences, train_tags, test_tags) = train_test_split(train_vectors, train_label, test_size=0.2, shuffle = True)"
   ]
  },
  {
   "cell_type": "code",
   "execution_count": 21,
   "id": "yellow-trust",
   "metadata": {},
   "outputs": [
    {
     "data": {
      "text/plain": [
       "array([[12361,  1774,  2036, ...,     0,     0,     0],\n",
       "       [ 2594,  2478,  1040, ...,     0,     0,     0],\n",
       "       [  174,   149,   509, ...,     0,     0,     0],\n",
       "       ...,\n",
       "       [ 5912,     1,    34, ...,     0,     0,     0],\n",
       "       [   26,     1,   508, ...,     0,     0,     0],\n",
       "       [  174,   149,     9, ...,     0,     0,     0]])"
      ]
     },
     "execution_count": 21,
     "metadata": {},
     "output_type": "execute_result"
    }
   ],
   "source": [
    "train_sentences"
   ]
  },
  {
   "cell_type": "code",
   "execution_count": 22,
   "id": "attended-tennis",
   "metadata": {},
   "outputs": [],
   "source": [
    "import tensorflow.keras.layers as Layers\n",
    "import tensorflow.keras.activations as Actications\n",
    "import tensorflow.keras.models as Models\n",
    "from tensorflow.keras.optimizers import Adam, Optimizer, SGD\n",
    "import tensorflow.keras.initializers as Init\n",
    "from tensorflow.keras import regularizers\n"
   ]
  },
  {
   "cell_type": "code",
   "execution_count": 23,
   "id": "starting-bradley",
   "metadata": {},
   "outputs": [
    {
     "name": "stdout",
     "output_type": "stream",
     "text": [
      "Model: \"sequential\"\n",
      "_________________________________________________________________\n",
      "Layer (type)                 Output Shape              Param #   \n",
      "=================================================================\n",
      "embedding (Embedding)        (None, 2198, 128)         2557952   \n",
      "_________________________________________________________________\n",
      "conv1d (Conv1D)              (None, 2194, 512)         328192    \n",
      "_________________________________________________________________\n",
      "max_pooling1d (MaxPooling1D) (None, 438, 512)          0         \n",
      "_________________________________________________________________\n",
      "conv1d_1 (Conv1D)            (None, 434, 256)          655616    \n",
      "_________________________________________________________________\n",
      "max_pooling1d_1 (MaxPooling1 (None, 86, 256)           0         \n",
      "_________________________________________________________________\n",
      "conv1d_2 (Conv1D)            (None, 82, 128)           163968    \n",
      "_________________________________________________________________\n",
      "dropout (Dropout)            (None, 82, 128)           0         \n",
      "_________________________________________________________________\n",
      "max_pooling1d_2 (MaxPooling1 (None, 27, 128)           0         \n",
      "_________________________________________________________________\n",
      "conv1d_3 (Conv1D)            (None, 25, 64)            24640     \n",
      "_________________________________________________________________\n",
      "dropout_1 (Dropout)          (None, 25, 64)            0         \n",
      "_________________________________________________________________\n",
      "max_pooling1d_3 (MaxPooling1 (None, 8, 64)             0         \n",
      "_________________________________________________________________\n",
      "conv1d_4 (Conv1D)            (None, 6, 32)             6176      \n",
      "_________________________________________________________________\n",
      "dropout_2 (Dropout)          (None, 6, 32)             0         \n",
      "_________________________________________________________________\n",
      "flatten (Flatten)            (None, 192)               0         \n",
      "_________________________________________________________________\n",
      "dense (Dense)                (None, 32)                6176      \n",
      "_________________________________________________________________\n",
      "dropout_3 (Dropout)          (None, 32)                0         \n",
      "_________________________________________________________________\n",
      "dense_1 (Dense)              (None, 1)                 33        \n",
      "=================================================================\n",
      "Total params: 3,742,753\n",
      "Trainable params: 1,184,801\n",
      "Non-trainable params: 2,557,952\n",
      "_________________________________________________________________\n"
     ]
    }
   ],
   "source": [
    "model = Models.Sequential()\n",
    "\n",
    "model.add(Layers.Embedding(VOCAB_SIZE+1,DIMENSIONS,\n",
    "                           embeddings_initializer = Init.Constant(words2vec_matrix),\n",
    "                           input_length=MAX_LEN, trainable=False ))\n",
    "\n",
    "model.add(Layers.Conv1D(512, 5, activation=\"relu\"))\n",
    "model.add(Layers.MaxPooling1D(5))\n",
    "\n",
    "model.add(Layers.Conv1D(256, 5, activation=\"relu\"))\n",
    "model.add(Layers.MaxPooling1D(5))\n",
    "\n",
    "model.add(Layers.Conv1D(128, 5, activation=\"relu\"))\n",
    "model.add(Layers.Dropout(0.3))\n",
    "model.add(Layers.MaxPooling1D(3))\n",
    "\n",
    "model.add(Layers.Conv1D(64, 3, activation=\"relu\"))\n",
    "model.add(Layers.Dropout(0.3))\n",
    "model.add(Layers.MaxPooling1D(3))\n",
    "\n",
    "model.add(Layers.Conv1D(32, 3, activation=\"relu\"))\n",
    "model.add(Layers.Dropout(0.3))\n",
    "\n",
    "model.add(Layers.Flatten())\n",
    "\n",
    "model.add(Layers.Dense(32, activation='relu', kernel_regularizer = regularizers.l2(1e-4)))\n",
    "model.add(Layers.Dropout(0.6))\n",
    "\n",
    "model.add(Layers.Dense(1,activation='sigmoid'))\n",
    "\n",
    "model.summary()\n",
    "\n",
    "model.compile(optimizer=\"adam\",loss='binary_crossentropy',metrics=['accuracy'])"
   ]
  },
  {
   "cell_type": "code",
   "execution_count": 24,
   "id": "enabling-clone",
   "metadata": {},
   "outputs": [
    {
     "name": "stdout",
     "output_type": "stream",
     "text": [
      "Epoch 1/20\n",
      "18/18 [==============================] - 32s 2s/step - loss: 0.7423 - accuracy: 0.5295 - val_loss: 0.6760 - val_accuracy: 0.5347\n",
      "Epoch 2/20\n",
      "18/18 [==============================] - 31s 2s/step - loss: 0.6892 - accuracy: 0.5538 - val_loss: 0.6860 - val_accuracy: 0.5417\n",
      "Epoch 3/20\n",
      "18/18 [==============================] - 32s 2s/step - loss: 0.6865 - accuracy: 0.5608 - val_loss: 0.6811 - val_accuracy: 0.5417\n",
      "Epoch 4/20\n",
      "18/18 [==============================] - 33s 2s/step - loss: 0.6873 - accuracy: 0.5521 - val_loss: 0.6802 - val_accuracy: 0.5417\n",
      "Epoch 5/20\n",
      "18/18 [==============================] - 31s 2s/step - loss: 0.6809 - accuracy: 0.5677 - val_loss: 0.6819 - val_accuracy: 0.5417\n",
      "Epoch 6/20\n",
      "18/18 [==============================] - 31s 2s/step - loss: 0.6781 - accuracy: 0.5573 - val_loss: 0.6823 - val_accuracy: 0.5417\n",
      "Epoch 7/20\n",
      "18/18 [==============================] - 34s 2s/step - loss: 0.6800 - accuracy: 0.5677 - val_loss: 0.6761 - val_accuracy: 0.5417\n",
      "Epoch 8/20\n",
      "18/18 [==============================] - 32s 2s/step - loss: 0.6707 - accuracy: 0.5851 - val_loss: 0.6764 - val_accuracy: 0.5417\n",
      "Epoch 9/20\n",
      "18/18 [==============================] - 32s 2s/step - loss: 0.6808 - accuracy: 0.5712 - val_loss: 0.6704 - val_accuracy: 0.5417\n",
      "Epoch 10/20\n",
      "18/18 [==============================] - 32s 2s/step - loss: 0.6880 - accuracy: 0.5729 - val_loss: 0.6777 - val_accuracy: 0.5417\n",
      "Epoch 11/20\n",
      "18/18 [==============================] - 35s 2s/step - loss: 0.6637 - accuracy: 0.5799 - val_loss: 0.6635 - val_accuracy: 0.5417\n",
      "Epoch 12/20\n",
      "18/18 [==============================] - 32s 2s/step - loss: 0.6679 - accuracy: 0.5729 - val_loss: 0.6609 - val_accuracy: 0.5417\n",
      "Epoch 13/20\n",
      "18/18 [==============================] - 32s 2s/step - loss: 0.6658 - accuracy: 0.5781 - val_loss: 0.6713 - val_accuracy: 0.5417\n",
      "Epoch 14/20\n",
      "18/18 [==============================] - 32s 2s/step - loss: 0.6633 - accuracy: 0.5729 - val_loss: 0.6827 - val_accuracy: 0.5417\n",
      "Epoch 15/20\n",
      "18/18 [==============================] - 33s 2s/step - loss: 0.6493 - accuracy: 0.5764 - val_loss: 0.7449 - val_accuracy: 0.5417\n",
      "Epoch 16/20\n",
      "18/18 [==============================] - 33s 2s/step - loss: 0.6609 - accuracy: 0.5712 - val_loss: 0.6585 - val_accuracy: 0.5417\n",
      "Epoch 17/20\n",
      "18/18 [==============================] - 32s 2s/step - loss: 0.6553 - accuracy: 0.5712 - val_loss: 0.7113 - val_accuracy: 0.5417\n",
      "Epoch 18/20\n",
      "18/18 [==============================] - 36s 2s/step - loss: 0.6376 - accuracy: 0.5816 - val_loss: 0.6608 - val_accuracy: 0.5417\n",
      "Epoch 19/20\n",
      "18/18 [==============================] - 34s 2s/step - loss: 0.6310 - accuracy: 0.6042 - val_loss: 0.7363 - val_accuracy: 0.5417\n",
      "Epoch 20/20\n",
      "18/18 [==============================] - 34s 2s/step - loss: 0.6363 - accuracy: 0.5816 - val_loss: 0.6683 - val_accuracy: 0.5417\n"
     ]
    }
   ],
   "source": [
    "CONV_NET = model.fit( train_sentences, train_tags, epochs=20, validation_split=0.20 )"
   ]
  },
  {
   "cell_type": "code",
   "execution_count": 25,
   "id": "postal-router",
   "metadata": {
    "scrolled": true
   },
   "outputs": [
    {
     "data": {
      "image/png": "[encoded data removed]",
      "text/plain": [
       "<Figure size 432x288 with 1 Axes>"
      ]
     },
     "metadata": {
      "needs_background": "light"
     },
     "output_type": "display_data"
    }
   ],
   "source": [
    "plt.plot(CONV_NET.history['accuracy'])\n",
    "plt.plot(CONV_NET.history['val_accuracy'])\n",
    "plt.title('CNN Accuracy')\n",
    "plt.ylabel('Accuracy')\n",
    "plt.xlabel('Epoch')\n",
    "plt.legend(['Train', 'Validation'], loc='upper left')\n",
    "plt.show()"
   ]
  },
  {
   "cell_type": "code",
   "execution_count": 26,
   "id": "attractive-fields",
   "metadata": {
    "scrolled": true
   },
   "outputs": [
    {
     "name": "stdout",
     "output_type": "stream",
     "text": [
      "              precision    recall  f1-score   support\n",
      "\n",
      "         0.0       0.89      0.48      0.63       163\n",
      "         1.0       0.08      0.41      0.13        17\n",
      "\n",
      "    accuracy                           0.48       180\n",
      "   macro avg       0.48      0.45      0.38       180\n",
      "weighted avg       0.81      0.48      0.58       180\n",
      "\n"
     ]
    }
   ],
   "source": [
    "print(classification_report(model.predict(test_sentences).round(), test_tags))"
   ]
  },
  {
   "cell_type": "code",
   "execution_count": 27,
   "id": "willing-version",
   "metadata": {},
   "outputs": [
    {
     "name": "stdout",
     "output_type": "stream",
     "text": [
      "Model: \"sequential_1\"\n",
      "_________________________________________________________________\n",
      "Layer (type)                 Output Shape              Param #   \n",
      "=================================================================\n",
      "embedding_1 (Embedding)      (None, 2198, 128)         2557952   \n",
      "_________________________________________________________________\n",
      "bidirectional (Bidirectional (None, 512)               788480    \n",
      "_________________________________________________________________\n",
      "dense_2 (Dense)              (None, 128)               65664     \n",
      "_________________________________________________________________\n",
      "dropout_4 (Dropout)          (None, 128)               0         \n",
      "_________________________________________________________________\n",
      "dense_3 (Dense)              (None, 64)                8256      \n",
      "_________________________________________________________________\n",
      "dropout_5 (Dropout)          (None, 64)                0         \n",
      "_________________________________________________________________\n",
      "dense_4 (Dense)              (None, 1)                 65        \n",
      "=================================================================\n",
      "Total params: 3,420,417\n",
      "Trainable params: 862,465\n",
      "Non-trainable params: 2,557,952\n",
      "_________________________________________________________________\n"
     ]
    }
   ],
   "source": [
    "lstm = Models.Sequential()\n",
    "\n",
    "lstm.add(Layers.Embedding(VOCAB_SIZE+1,DIMENSIONS,\n",
    "                          embeddings_initializer = Init.Constant(words2vec_matrix),\n",
    "                          input_length=MAX_LEN, trainable=False ))\n",
    "\n",
    "lstm.add(Layers.Bidirectional(Layers.LSTM(256, activation='tanh')))\n",
    "\n",
    "lstm.add(Layers.Dense(128, activation='tanh'))\n",
    "lstm.add(Layers.Dropout(0.3))\n",
    "\n",
    "lstm.add(Layers.Dense(64, activation='tanh'))\n",
    "lstm.add(Layers.Dropout(0.3))\n",
    "\n",
    "lstm.add(Layers.Dense(1, activation='sigmoid'))\n",
    "\n",
    "lstm.summary()"
   ]
  },
  {
   "cell_type": "code",
   "execution_count": 32,
   "id": "alien-heading",
   "metadata": {},
   "outputs": [
    {
     "name": "stdout",
     "output_type": "stream",
     "text": [
      "Epoch 1/10\n"
     ]
    },
    {
     "name": "stderr",
     "output_type": "stream",
     "text": [
      "Exception ignored in: <function WeakKeyDictionary.__init__.<locals>.remove at 0x000001591797A9D0>\n",
      "Traceback (most recent call last):\n",
      "  File \"C:\\Users\\hp\\anaconda3\\envs\\tensorflow\\lib\\weakref.py\", line 346, in remove\n",
      "    self = selfref()\n",
      "KeyboardInterrupt: \n"
     ]
    },
    {
     "name": "stdout",
     "output_type": "stream",
     "text": [
      " 2/18 [==>...........................] - ETA: 8:18 - loss: 0.7160 - accuracy: 0.5000"
     ]
    },
    {
     "ename": "KeyboardInterrupt",
     "evalue": "",
     "output_type": "error",
     "traceback": [
      "\u001b[1;31m---------------------------------------------------------------------------\u001b[0m",
      "\u001b[1;31mKeyboardInterrupt\u001b[0m                         Traceback (most recent call last)",
      "\u001b[1;32m<ipython-input-32-ab0565e4ff01>\u001b[0m in \u001b[0;36m<module>\u001b[1;34m\u001b[0m\n\u001b[0;32m      5\u001b[0m \u001b[0mlstm\u001b[0m\u001b[1;33m.\u001b[0m\u001b[0mcompile\u001b[0m\u001b[1;33m(\u001b[0m\u001b[0mloss\u001b[0m\u001b[1;33m=\u001b[0m\u001b[1;34m'binary_crossentropy'\u001b[0m\u001b[1;33m,\u001b[0m \u001b[0moptimizer\u001b[0m\u001b[1;33m=\u001b[0m\u001b[1;34m'adam'\u001b[0m\u001b[1;33m,\u001b[0m \u001b[0mmetrics\u001b[0m\u001b[1;33m=\u001b[0m\u001b[1;33m[\u001b[0m\u001b[1;34m'accuracy'\u001b[0m\u001b[1;33m]\u001b[0m\u001b[1;33m)\u001b[0m\u001b[1;33m\u001b[0m\u001b[1;33m\u001b[0m\u001b[0m\n\u001b[0;32m      6\u001b[0m \u001b[0mes_callback\u001b[0m \u001b[1;33m=\u001b[0m \u001b[0mEarlyStopping\u001b[0m\u001b[1;33m(\u001b[0m\u001b[0mmonitor\u001b[0m\u001b[1;33m=\u001b[0m\u001b[1;34m'val_loss'\u001b[0m\u001b[1;33m,\u001b[0m \u001b[0mpatience\u001b[0m\u001b[1;33m=\u001b[0m\u001b[1;36m3\u001b[0m\u001b[1;33m)\u001b[0m\u001b[1;33m\u001b[0m\u001b[1;33m\u001b[0m\u001b[0m\n\u001b[1;32m----> 7\u001b[1;33m \u001b[0mLSTM_NET\u001b[0m \u001b[1;33m=\u001b[0m \u001b[0mlstm\u001b[0m\u001b[1;33m.\u001b[0m\u001b[0mfit\u001b[0m\u001b[1;33m(\u001b[0m\u001b[0mtrain_sentences\u001b[0m\u001b[1;33m,\u001b[0m \u001b[0mtrain_tags\u001b[0m\u001b[1;33m,\u001b[0m \u001b[0mepochs\u001b[0m\u001b[1;33m=\u001b[0m\u001b[1;36m10\u001b[0m\u001b[1;33m,\u001b[0m \u001b[0mvalidation_split\u001b[0m\u001b[1;33m=\u001b[0m\u001b[1;36m0.2\u001b[0m\u001b[1;33m,\u001b[0m \u001b[0mcallbacks\u001b[0m\u001b[1;33m=\u001b[0m\u001b[1;33m[\u001b[0m\u001b[0mes_callback\u001b[0m\u001b[1;33m]\u001b[0m\u001b[1;33m,\u001b[0m \u001b[0mshuffle\u001b[0m\u001b[1;33m=\u001b[0m\u001b[1;32mFalse\u001b[0m\u001b[1;33m)\u001b[0m\u001b[1;33m\u001b[0m\u001b[1;33m\u001b[0m\u001b[0m\n\u001b[0m",
      "\u001b[1;32m~\\anaconda3\\envs\\tensorflow\\lib\\site-packages\\tensorflow\\python\\keras\\engine\\training.py\u001b[0m in \u001b[0;36m_method_wrapper\u001b[1;34m(self, *args, **kwargs)\u001b[0m\n\u001b[0;32m    106\u001b[0m   \u001b[1;32mdef\u001b[0m \u001b[0m_method_wrapper\u001b[0m\u001b[1;33m(\u001b[0m\u001b[0mself\u001b[0m\u001b[1;33m,\u001b[0m \u001b[1;33m*\u001b[0m\u001b[0margs\u001b[0m\u001b[1;33m,\u001b[0m \u001b[1;33m**\u001b[0m\u001b[0mkwargs\u001b[0m\u001b[1;33m)\u001b[0m\u001b[1;33m:\u001b[0m\u001b[1;33m\u001b[0m\u001b[1;33m\u001b[0m\u001b[0m\n\u001b[0;32m    107\u001b[0m     \u001b[1;32mif\u001b[0m \u001b[1;32mnot\u001b[0m \u001b[0mself\u001b[0m\u001b[1;33m.\u001b[0m\u001b[0m_in_multi_worker_mode\u001b[0m\u001b[1;33m(\u001b[0m\u001b[1;33m)\u001b[0m\u001b[1;33m:\u001b[0m  \u001b[1;31m# pylint: disable=protected-access\u001b[0m\u001b[1;33m\u001b[0m\u001b[1;33m\u001b[0m\u001b[0m\n\u001b[1;32m--> 108\u001b[1;33m       \u001b[1;32mreturn\u001b[0m \u001b[0mmethod\u001b[0m\u001b[1;33m(\u001b[0m\u001b[0mself\u001b[0m\u001b[1;33m,\u001b[0m \u001b[1;33m*\u001b[0m\u001b[0margs\u001b[0m\u001b[1;33m,\u001b[0m \u001b[1;33m**\u001b[0m\u001b[0mkwargs\u001b[0m\u001b[1;33m)\u001b[0m\u001b[1;33m\u001b[0m\u001b[1;33m\u001b[0m\u001b[0m\n\u001b[0m\u001b[0;32m    109\u001b[0m \u001b[1;33m\u001b[0m\u001b[0m\n\u001b[0;32m    110\u001b[0m     \u001b[1;31m# Running inside `run_distribute_coordinator` already.\u001b[0m\u001b[1;33m\u001b[0m\u001b[1;33m\u001b[0m\u001b[1;33m\u001b[0m\u001b[0m\n",
      "\u001b[1;32m~\\anaconda3\\envs\\tensorflow\\lib\\site-packages\\tensorflow\\python\\keras\\engine\\training.py\u001b[0m in \u001b[0;36mfit\u001b[1;34m(self, x, y, batch_size, epochs, verbose, callbacks, validation_split, validation_data, shuffle, class_weight, sample_weight, initial_epoch, steps_per_epoch, validation_steps, validation_batch_size, validation_freq, max_queue_size, workers, use_multiprocessing)\u001b[0m\n\u001b[0;32m   1096\u001b[0m                 batch_size=batch_size):\n\u001b[0;32m   1097\u001b[0m               \u001b[0mcallbacks\u001b[0m\u001b[1;33m.\u001b[0m\u001b[0mon_train_batch_begin\u001b[0m\u001b[1;33m(\u001b[0m\u001b[0mstep\u001b[0m\u001b[1;33m)\u001b[0m\u001b[1;33m\u001b[0m\u001b[1;33m\u001b[0m\u001b[0m\n\u001b[1;32m-> 1098\u001b[1;33m               \u001b[0mtmp_logs\u001b[0m \u001b[1;33m=\u001b[0m \u001b[0mtrain_function\u001b[0m\u001b[1;33m(\u001b[0m\u001b[0miterator\u001b[0m\u001b[1;33m)\u001b[0m\u001b[1;33m\u001b[0m\u001b[1;33m\u001b[0m\u001b[0m\n\u001b[0m\u001b[0;32m   1099\u001b[0m               \u001b[1;32mif\u001b[0m \u001b[0mdata_handler\u001b[0m\u001b[1;33m.\u001b[0m\u001b[0mshould_sync\u001b[0m\u001b[1;33m:\u001b[0m\u001b[1;33m\u001b[0m\u001b[1;33m\u001b[0m\u001b[0m\n\u001b[0;32m   1100\u001b[0m                 \u001b[0mcontext\u001b[0m\u001b[1;33m.\u001b[0m\u001b[0masync_wait\u001b[0m\u001b[1;33m(\u001b[0m\u001b[1;33m)\u001b[0m\u001b[1;33m\u001b[0m\u001b[1;33m\u001b[0m\u001b[0m\n",
      "\u001b[1;32m~\\anaconda3\\envs\\tensorflow\\lib\\site-packages\\tensorflow\\python\\eager\\def_function.py\u001b[0m in \u001b[0;36m__call__\u001b[1;34m(self, *args, **kwds)\u001b[0m\n\u001b[0;32m    778\u001b[0m       \u001b[1;32melse\u001b[0m\u001b[1;33m:\u001b[0m\u001b[1;33m\u001b[0m\u001b[1;33m\u001b[0m\u001b[0m\n\u001b[0;32m    779\u001b[0m         \u001b[0mcompiler\u001b[0m \u001b[1;33m=\u001b[0m \u001b[1;34m\"nonXla\"\u001b[0m\u001b[1;33m\u001b[0m\u001b[1;33m\u001b[0m\u001b[0m\n\u001b[1;32m--> 780\u001b[1;33m         \u001b[0mresult\u001b[0m \u001b[1;33m=\u001b[0m \u001b[0mself\u001b[0m\u001b[1;33m.\u001b[0m\u001b[0m_call\u001b[0m\u001b[1;33m(\u001b[0m\u001b[1;33m*\u001b[0m\u001b[0margs\u001b[0m\u001b[1;33m,\u001b[0m \u001b[1;33m**\u001b[0m\u001b[0mkwds\u001b[0m\u001b[1;33m)\u001b[0m\u001b[1;33m\u001b[0m\u001b[1;33m\u001b[0m\u001b[0m\n\u001b[0m\u001b[0;32m    781\u001b[0m \u001b[1;33m\u001b[0m\u001b[0m\n\u001b[0;32m    782\u001b[0m       \u001b[0mnew_tracing_count\u001b[0m \u001b[1;33m=\u001b[0m \u001b[0mself\u001b[0m\u001b[1;33m.\u001b[0m\u001b[0m_get_tracing_count\u001b[0m\u001b[1;33m(\u001b[0m\u001b[1;33m)\u001b[0m\u001b[1;33m\u001b[0m\u001b[1;33m\u001b[0m\u001b[0m\n",
      "\u001b[1;32m~\\anaconda3\\envs\\tensorflow\\lib\\site-packages\\tensorflow\\python\\eager\\def_function.py\u001b[0m in \u001b[0;36m_call\u001b[1;34m(self, *args, **kwds)\u001b[0m\n\u001b[0;32m    805\u001b[0m       \u001b[1;31m# In this case we have created variables on the first call, so we run the\u001b[0m\u001b[1;33m\u001b[0m\u001b[1;33m\u001b[0m\u001b[1;33m\u001b[0m\u001b[0m\n\u001b[0;32m    806\u001b[0m       \u001b[1;31m# defunned version which is guaranteed to never create variables.\u001b[0m\u001b[1;33m\u001b[0m\u001b[1;33m\u001b[0m\u001b[1;33m\u001b[0m\u001b[0m\n\u001b[1;32m--> 807\u001b[1;33m       \u001b[1;32mreturn\u001b[0m \u001b[0mself\u001b[0m\u001b[1;33m.\u001b[0m\u001b[0m_stateless_fn\u001b[0m\u001b[1;33m(\u001b[0m\u001b[1;33m*\u001b[0m\u001b[0margs\u001b[0m\u001b[1;33m,\u001b[0m \u001b[1;33m**\u001b[0m\u001b[0mkwds\u001b[0m\u001b[1;33m)\u001b[0m  \u001b[1;31m# pylint: disable=not-callable\u001b[0m\u001b[1;33m\u001b[0m\u001b[1;33m\u001b[0m\u001b[0m\n\u001b[0m\u001b[0;32m    808\u001b[0m     \u001b[1;32melif\u001b[0m \u001b[0mself\u001b[0m\u001b[1;33m.\u001b[0m\u001b[0m_stateful_fn\u001b[0m \u001b[1;32mis\u001b[0m \u001b[1;32mnot\u001b[0m \u001b[1;32mNone\u001b[0m\u001b[1;33m:\u001b[0m\u001b[1;33m\u001b[0m\u001b[1;33m\u001b[0m\u001b[0m\n\u001b[0;32m    809\u001b[0m       \u001b[1;31m# Release the lock early so that multiple threads can perform the call\u001b[0m\u001b[1;33m\u001b[0m\u001b[1;33m\u001b[0m\u001b[1;33m\u001b[0m\u001b[0m\n",
      "\u001b[1;32m~\\anaconda3\\envs\\tensorflow\\lib\\site-packages\\tensorflow\\python\\eager\\function.py\u001b[0m in \u001b[0;36m__call__\u001b[1;34m(self, *args, **kwargs)\u001b[0m\n\u001b[0;32m   2827\u001b[0m     \u001b[1;32mwith\u001b[0m \u001b[0mself\u001b[0m\u001b[1;33m.\u001b[0m\u001b[0m_lock\u001b[0m\u001b[1;33m:\u001b[0m\u001b[1;33m\u001b[0m\u001b[1;33m\u001b[0m\u001b[0m\n\u001b[0;32m   2828\u001b[0m       \u001b[0mgraph_function\u001b[0m\u001b[1;33m,\u001b[0m \u001b[0margs\u001b[0m\u001b[1;33m,\u001b[0m \u001b[0mkwargs\u001b[0m \u001b[1;33m=\u001b[0m \u001b[0mself\u001b[0m\u001b[1;33m.\u001b[0m\u001b[0m_maybe_define_function\u001b[0m\u001b[1;33m(\u001b[0m\u001b[0margs\u001b[0m\u001b[1;33m,\u001b[0m \u001b[0mkwargs\u001b[0m\u001b[1;33m)\u001b[0m\u001b[1;33m\u001b[0m\u001b[1;33m\u001b[0m\u001b[0m\n\u001b[1;32m-> 2829\u001b[1;33m     \u001b[1;32mreturn\u001b[0m \u001b[0mgraph_function\u001b[0m\u001b[1;33m.\u001b[0m\u001b[0m_filtered_call\u001b[0m\u001b[1;33m(\u001b[0m\u001b[0margs\u001b[0m\u001b[1;33m,\u001b[0m \u001b[0mkwargs\u001b[0m\u001b[1;33m)\u001b[0m  \u001b[1;31m# pylint: disable=protected-access\u001b[0m\u001b[1;33m\u001b[0m\u001b[1;33m\u001b[0m\u001b[0m\n\u001b[0m\u001b[0;32m   2830\u001b[0m \u001b[1;33m\u001b[0m\u001b[0m\n\u001b[0;32m   2831\u001b[0m   \u001b[1;33m@\u001b[0m\u001b[0mproperty\u001b[0m\u001b[1;33m\u001b[0m\u001b[1;33m\u001b[0m\u001b[0m\n",
      "\u001b[1;32m~\\anaconda3\\envs\\tensorflow\\lib\\site-packages\\tensorflow\\python\\eager\\function.py\u001b[0m in \u001b[0;36m_filtered_call\u001b[1;34m(self, args, kwargs, cancellation_manager)\u001b[0m\n\u001b[0;32m   1841\u001b[0m       \u001b[0;31m`\u001b[0m\u001b[0margs\u001b[0m\u001b[0;31m`\u001b[0m \u001b[1;32mand\u001b[0m\u001b[0;31m \u001b[0m\u001b[0;31m`\u001b[0m\u001b[0mkwargs\u001b[0m\u001b[0;31m`\u001b[0m\u001b[1;33m.\u001b[0m\u001b[1;33m\u001b[0m\u001b[1;33m\u001b[0m\u001b[0m\n\u001b[0;32m   1842\u001b[0m     \"\"\"\n\u001b[1;32m-> 1843\u001b[1;33m     return self._call_flat(\n\u001b[0m\u001b[0;32m   1844\u001b[0m         [t for t in nest.flatten((args, kwargs), expand_composites=True)\n\u001b[0;32m   1845\u001b[0m          if isinstance(t, (ops.Tensor,\n",
      "\u001b[1;32m~\\anaconda3\\envs\\tensorflow\\lib\\site-packages\\tensorflow\\python\\eager\\function.py\u001b[0m in \u001b[0;36m_call_flat\u001b[1;34m(self, args, captured_inputs, cancellation_manager)\u001b[0m\n\u001b[0;32m   1921\u001b[0m         and executing_eagerly):\n\u001b[0;32m   1922\u001b[0m       \u001b[1;31m# No tape is watching; skip to running the function.\u001b[0m\u001b[1;33m\u001b[0m\u001b[1;33m\u001b[0m\u001b[1;33m\u001b[0m\u001b[0m\n\u001b[1;32m-> 1923\u001b[1;33m       return self._build_call_outputs(self._inference_function.call(\n\u001b[0m\u001b[0;32m   1924\u001b[0m           ctx, args, cancellation_manager=cancellation_manager))\n\u001b[0;32m   1925\u001b[0m     forward_backward = self._select_forward_and_backward_functions(\n",
      "\u001b[1;32m~\\anaconda3\\envs\\tensorflow\\lib\\site-packages\\tensorflow\\python\\eager\\function.py\u001b[0m in \u001b[0;36mcall\u001b[1;34m(self, ctx, args, cancellation_manager)\u001b[0m\n\u001b[0;32m    543\u001b[0m       \u001b[1;32mwith\u001b[0m \u001b[0m_InterpolateFunctionError\u001b[0m\u001b[1;33m(\u001b[0m\u001b[0mself\u001b[0m\u001b[1;33m)\u001b[0m\u001b[1;33m:\u001b[0m\u001b[1;33m\u001b[0m\u001b[1;33m\u001b[0m\u001b[0m\n\u001b[0;32m    544\u001b[0m         \u001b[1;32mif\u001b[0m \u001b[0mcancellation_manager\u001b[0m \u001b[1;32mis\u001b[0m \u001b[1;32mNone\u001b[0m\u001b[1;33m:\u001b[0m\u001b[1;33m\u001b[0m\u001b[1;33m\u001b[0m\u001b[0m\n\u001b[1;32m--> 545\u001b[1;33m           outputs = execute.execute(\n\u001b[0m\u001b[0;32m    546\u001b[0m               \u001b[0mstr\u001b[0m\u001b[1;33m(\u001b[0m\u001b[0mself\u001b[0m\u001b[1;33m.\u001b[0m\u001b[0msignature\u001b[0m\u001b[1;33m.\u001b[0m\u001b[0mname\u001b[0m\u001b[1;33m)\u001b[0m\u001b[1;33m,\u001b[0m\u001b[1;33m\u001b[0m\u001b[1;33m\u001b[0m\u001b[0m\n\u001b[0;32m    547\u001b[0m               \u001b[0mnum_outputs\u001b[0m\u001b[1;33m=\u001b[0m\u001b[0mself\u001b[0m\u001b[1;33m.\u001b[0m\u001b[0m_num_outputs\u001b[0m\u001b[1;33m,\u001b[0m\u001b[1;33m\u001b[0m\u001b[1;33m\u001b[0m\u001b[0m\n",
      "\u001b[1;32m~\\anaconda3\\envs\\tensorflow\\lib\\site-packages\\tensorflow\\python\\eager\\execute.py\u001b[0m in \u001b[0;36mquick_execute\u001b[1;34m(op_name, num_outputs, inputs, attrs, ctx, name)\u001b[0m\n\u001b[0;32m     57\u001b[0m   \u001b[1;32mtry\u001b[0m\u001b[1;33m:\u001b[0m\u001b[1;33m\u001b[0m\u001b[1;33m\u001b[0m\u001b[0m\n\u001b[0;32m     58\u001b[0m     \u001b[0mctx\u001b[0m\u001b[1;33m.\u001b[0m\u001b[0mensure_initialized\u001b[0m\u001b[1;33m(\u001b[0m\u001b[1;33m)\u001b[0m\u001b[1;33m\u001b[0m\u001b[1;33m\u001b[0m\u001b[0m\n\u001b[1;32m---> 59\u001b[1;33m     tensors = pywrap_tfe.TFE_Py_Execute(ctx._handle, device_name, op_name,\n\u001b[0m\u001b[0;32m     60\u001b[0m                                         inputs, attrs, num_outputs)\n\u001b[0;32m     61\u001b[0m   \u001b[1;32mexcept\u001b[0m \u001b[0mcore\u001b[0m\u001b[1;33m.\u001b[0m\u001b[0m_NotOkStatusException\u001b[0m \u001b[1;32mas\u001b[0m \u001b[0me\u001b[0m\u001b[1;33m:\u001b[0m\u001b[1;33m\u001b[0m\u001b[1;33m\u001b[0m\u001b[0m\n",
      "\u001b[1;31mKeyboardInterrupt\u001b[0m: "
     ]
    }
   ],
   "source": [
    "from keras.callbacks import ModelCheckpoint\n",
    "from tensorflow.keras.callbacks import EarlyStopping\n",
    " \n",
    "\n",
    "lstm.compile(loss='binary_crossentropy', optimizer='adam', metrics=['accuracy'])\n",
    "es_callback = EarlyStopping(monitor='val_loss', patience=3) \n",
    "LSTM_NET = lstm.fit(train_sentences, train_tags, epochs=10, validation_split=0.2, callbacks=[es_callback], shuffle=False)"
   ]
  },
  {
   "cell_type": "code",
   "execution_count": 29,
   "id": "funny-kenya",
   "metadata": {},
   "outputs": [
    {
     "data": {
      "image/png": "[encoded data removed]",
      "text/plain": [
       "<Figure size 432x288 with 1 Axes>"
      ]
     },
     "metadata": {
      "needs_background": "light"
     },
     "output_type": "display_data"
    }
   ],
   "source": [
    "plt.plot(LSTM_NET.history['accuracy'])\n",
    "plt.plot(LSTM_NET.history['val_accuracy'])\n",
    "plt.title('LSTM Accuracy')\n",
    "plt.ylabel('Accuracy')\n",
    "plt.xlabel('Epoch')\n",
    "plt.legend(['Train', 'Validation'], loc='upper left')\n",
    "plt.show()"
   ]
  },
  {
   "cell_type": "code",
   "execution_count": 109,
   "id": "altered-stocks",
   "metadata": {},
   "outputs": [
    {
     "name": "stdout",
     "output_type": "stream",
     "text": [
      "              precision    recall  f1-score   support\n",
      "\n",
      "         0.0       0.79      0.59      0.68       130\n",
      "         1.0       0.35      0.58      0.44        50\n",
      "\n",
      "    accuracy                           0.59       180\n",
      "   macro avg       0.57      0.59      0.56       180\n",
      "weighted avg       0.67      0.59      0.61       180\n",
      "\n"
     ]
    }
   ],
   "source": [
    "print(classification_report(lstm.predict(test_sentences).round(), test_tags))"
   ]
  },
  {
   "cell_type": "code",
   "execution_count": 30,
   "id": "vulnerable-festival",
   "metadata": {},
   "outputs": [],
   "source": [
    "from sklearn.metrics import roc_curve\n",
    "from sklearn.metrics import auc\n",
    "y_pred_cnn = model.predict(test_sentences).round()\n",
    "fpr_cnn, tpr_cnn, thresholds_cnn = roc_curve(test_tags, y_pred_cnn)\n",
    "\n",
    "y_pred_lstm = lstm.predict(test_sentences).round() \n",
    "fpr_lstm, tpr_lstm, thresholds_lstm = roc_curve(test_tags, y_pred_lstm)\n",
    "auc_cnn = auc(fpr_cnn, tpr_cnn)\n",
    "auc_lstm = auc(fpr_lstm, tpr_lstm)"
   ]
  },
  {
   "cell_type": "code",
   "execution_count": 33,
   "id": "attached-python",
   "metadata": {},
   "outputs": [
    {
     "data": {
      "image/png": "[encoded data removed]",
      "text/plain": [
       "<Figure size 432x288 with 1 Axes>"
      ]
     },
     "metadata": {
      "needs_background": "light"
     },
     "output_type": "display_data"
    }
   ],
   "source": [
    "plt.figure(1)\n",
    "plt.plot([0, 1], [0, 1], 'k--')\n",
    "plt.plot(fpr_cnn, tpr_cnn, label='CNN (area = {:.3f})'.format(auc_cnn))\n",
    "plt.plot(fpr_lstm, tpr_lstm, label='LSTM (area = {:.3f})'.format(auc_lstm))\n",
    "plt.xlabel('False positive rate')\n",
    "plt.ylabel('True positive rate')\n",
    "plt.title('ROC curve')\n",
    "plt.legend(loc='best')\n",
    "plt.show()"
   ]
  },
  {
   "cell_type": "code",
   "execution_count": null,
   "id": "mechanical-stick",
   "metadata": {},
   "outputs": [],
   "source": []
  },
  {
   "cell_type": "code",
   "execution_count": null,
   "id": "hydraulic-premium",
   "metadata": {},
   "outputs": [],
   "source": []
  }
 ],
 "metadata": {
  "kernelspec": {
   "display_name": "Python 3 (ipykernel)",
   "language": "python",
   "name": "python3"
  },
  "language_info": {
   "codemirror_mode": {
    "name": "ipython",
    "version": 3
   },
   "file_extension": ".py",
   "mimetype": "text/x-python",
   "name": "python",
   "nbconvert_exporter": "python",
   "pygments_lexer": "ipython3",
   "version": "3.7.11"
  }
 },
 "nbformat": 4,
 "nbformat_minor": 5
}
